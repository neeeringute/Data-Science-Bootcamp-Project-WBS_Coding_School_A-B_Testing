{
 "cells": [
  {
   "cell_type": "markdown",
   "id": "63648032-5f79-476d-9b00-4ea3c5bb1252",
   "metadata": {},
   "source": [
    "## Hypothesis testing: Chi-Square Test within the Eniac case study"
   ]
  },
  {
   "cell_type": "markdown",
   "id": "61dbfe9c-5075-452c-9eb1-aa7e278ba589",
   "metadata": {},
   "source": [
    "In this notebook we perform a chi-square test with the data from the Eniac case study, applying a post-hoc correction to perform pairwise tests and find the true winner."
   ]
  },
  {
   "cell_type": "code",
   "execution_count": 1,
   "id": "155521c0-6df1-415d-aba0-d3d7116ca7b4",
   "metadata": {},
   "outputs": [],
   "source": [
    "import os\n",
    "import seaborn as sns\n",
    "import numpy as np\n",
    "import pandas as pd\n",
    "import matplotlib.pyplot as plt\n",
    "%matplotlib inline\n",
    "import warnings\n",
    "warnings.filterwarnings('ignore')\n",
    "from scipy import stats\n",
    "from scipy.stats import chi2_contingency"
   ]
  },
  {
   "cell_type": "markdown",
   "id": "0840ef4c-50b7-4d48-a87c-a43a600f6077",
   "metadata": {},
   "source": [
    "### 1.&nbsp;State the Null Hypothesis and the Alternative Hypothesis."
   ]
  },
  {
   "cell_type": "markdown",
   "id": "794ae22a-e9e9-4501-b76f-4cdc29cbdb71",
   "metadata": {},
   "source": [
    "#####  `Null Hypothesis` ($H_0$): The click-through rate for all versions of the website is equal.\n",
    "#####  `Alternative Hypothesis` ($H_A$): The click-through rate for at least one version of the website differs."
   ]
  },
  {
   "cell_type": "markdown",
   "id": "7dcc5eab-042c-4adb-948e-f6e93a1b89d8",
   "metadata": {},
   "source": [
    "### 2.&nbsp; Select an appropriate significance level alpha ($\\alpha$)."
   ]
  },
  {
   "cell_type": "markdown",
   "id": "d6bca507-bca4-44b0-9ded-fb414391b67f",
   "metadata": {},
   "source": [
    "It was decided that a relatively high alpha was acceptable in this case"
   ]
  },
  {
   "cell_type": "code",
   "execution_count": 2,
   "id": "f0c5e452-b4cf-40a8-938f-2717fb6286c0",
   "metadata": {},
   "outputs": [],
   "source": [
    "alpha = 0.05"
   ]
  },
  {
   "cell_type": "markdown",
   "id": "307360cc-18d2-4511-b254-33e73cd3b047",
   "metadata": {},
   "source": [
    "### 3.&nbsp; Collect data that is random and independent\n"
   ]
  },
  {
   "cell_type": "code",
   "execution_count": 3,
   "id": "5e7903e2-a6e1-489a-bfd3-dc89ef38cab7",
   "metadata": {},
   "outputs": [],
   "source": [
    "# Load datasets\n",
    "eniac_a = pd.read_csv('../data/eniac_a.csv')\n",
    "eniac_b = pd.read_csv('../data/eniac_b.csv')\n",
    "eniac_c = pd.read_csv('../data/eniac_c.csv')\n",
    "eniac_d = pd.read_csv('../data/eniac_d.csv')"
   ]
  },
  {
   "cell_type": "code",
   "execution_count": 4,
   "id": "e85d9fa5-c733-4861-a911-8d5a954de493",
   "metadata": {},
   "outputs": [],
   "source": [
    "a_df = eniac_a.copy()\n",
    "b_df = eniac_b.copy()\n",
    "c_df= eniac_c.copy()\n",
    "d_df= eniac_d.copy()"
   ]
  },
  {
   "cell_type": "markdown",
   "id": "09b0dd61-3a2e-4594-8561-d1d786f5e4a5",
   "metadata": {},
   "source": [
    "How many clicks did each element get?"
   ]
  },
  {
   "cell_type": "code",
   "execution_count": 5,
   "id": "049e70d8-7b93-413b-a3e7-0b5587da1cdf",
   "metadata": {},
   "outputs": [
    {
     "data": {
      "text/html": [
       "<div>\n",
       "<style scoped>\n",
       "    .dataframe tbody tr th:only-of-type {\n",
       "        vertical-align: middle;\n",
       "    }\n",
       "\n",
       "    .dataframe tbody tr th {\n",
       "        vertical-align: top;\n",
       "    }\n",
       "\n",
       "    .dataframe thead th {\n",
       "        text-align: right;\n",
       "    }\n",
       "</style>\n",
       "<table border=\"1\" class=\"dataframe\">\n",
       "  <thead>\n",
       "    <tr style=\"text-align: right;\">\n",
       "      <th></th>\n",
       "      <th>Element ID</th>\n",
       "      <th>Tag name</th>\n",
       "      <th>Name</th>\n",
       "      <th>No. clicks</th>\n",
       "      <th>Visible?</th>\n",
       "      <th>Snapshot information</th>\n",
       "    </tr>\n",
       "  </thead>\n",
       "  <tbody>\n",
       "    <tr>\n",
       "      <th>0</th>\n",
       "      <td>48</td>\n",
       "      <td>h1</td>\n",
       "      <td>ENIAC</td>\n",
       "      <td>269</td>\n",
       "      <td>True</td>\n",
       "      <td>Homepage Version A - white SHOP NOW   •   http...</td>\n",
       "    </tr>\n",
       "    <tr>\n",
       "      <th>1</th>\n",
       "      <td>25</td>\n",
       "      <td>div</td>\n",
       "      <td>mySidebar</td>\n",
       "      <td>309</td>\n",
       "      <td>True</td>\n",
       "      <td>created 2021-09-14   •   14 days 0 hours 34 mi...</td>\n",
       "    </tr>\n",
       "    <tr>\n",
       "      <th>2</th>\n",
       "      <td>4</td>\n",
       "      <td>a</td>\n",
       "      <td>Mac</td>\n",
       "      <td>279</td>\n",
       "      <td>True</td>\n",
       "      <td>NaN</td>\n",
       "    </tr>\n",
       "  </tbody>\n",
       "</table>\n",
       "</div>"
      ],
      "text/plain": [
       "   Element ID Tag name       Name  No. clicks  Visible?  \\\n",
       "0          48       h1      ENIAC         269      True   \n",
       "1          25      div  mySidebar         309      True   \n",
       "2           4        a        Mac         279      True   \n",
       "\n",
       "                                Snapshot information  \n",
       "0  Homepage Version A - white SHOP NOW   •   http...  \n",
       "1  created 2021-09-14   •   14 days 0 hours 34 mi...  \n",
       "2                                                NaN  "
      ]
     },
     "execution_count": 5,
     "metadata": {},
     "output_type": "execute_result"
    }
   ],
   "source": [
    "a_df.head(3)"
   ]
  },
  {
   "cell_type": "code",
   "execution_count": 6,
   "id": "ce055278-227b-4aef-bd20-78baa3b01c71",
   "metadata": {},
   "outputs": [
    {
     "data": {
      "text/html": [
       "<div>\n",
       "<style scoped>\n",
       "    .dataframe tbody tr th:only-of-type {\n",
       "        vertical-align: middle;\n",
       "    }\n",
       "\n",
       "    .dataframe tbody tr th {\n",
       "        vertical-align: top;\n",
       "    }\n",
       "\n",
       "    .dataframe thead th {\n",
       "        text-align: right;\n",
       "    }\n",
       "</style>\n",
       "<table border=\"1\" class=\"dataframe\">\n",
       "  <thead>\n",
       "    <tr style=\"text-align: right;\">\n",
       "      <th></th>\n",
       "      <th>Element ID</th>\n",
       "      <th>Tag name</th>\n",
       "      <th>Name</th>\n",
       "      <th>No. clicks</th>\n",
       "      <th>Visible?</th>\n",
       "      <th>Snapshot information</th>\n",
       "    </tr>\n",
       "  </thead>\n",
       "  <tbody>\n",
       "    <tr>\n",
       "      <th>0</th>\n",
       "      <td>48</td>\n",
       "      <td>h1</td>\n",
       "      <td>ENIAC</td>\n",
       "      <td>236</td>\n",
       "      <td>True</td>\n",
       "      <td>Homepage Version B - red SHOP NOW   •   https:...</td>\n",
       "    </tr>\n",
       "    <tr>\n",
       "      <th>1</th>\n",
       "      <td>25</td>\n",
       "      <td>div</td>\n",
       "      <td>mySidebar</td>\n",
       "      <td>304</td>\n",
       "      <td>True</td>\n",
       "      <td>created 2021-10-27   •   14 days 0 hours 34 mi...</td>\n",
       "    </tr>\n",
       "    <tr>\n",
       "      <th>2</th>\n",
       "      <td>4</td>\n",
       "      <td>a</td>\n",
       "      <td>Mac</td>\n",
       "      <td>268</td>\n",
       "      <td>True</td>\n",
       "      <td>NaN</td>\n",
       "    </tr>\n",
       "  </tbody>\n",
       "</table>\n",
       "</div>"
      ],
      "text/plain": [
       "   Element ID Tag name       Name  No. clicks  Visible?  \\\n",
       "0          48       h1      ENIAC         236      True   \n",
       "1          25      div  mySidebar         304      True   \n",
       "2           4        a        Mac         268      True   \n",
       "\n",
       "                                Snapshot information  \n",
       "0  Homepage Version B - red SHOP NOW   •   https:...  \n",
       "1  created 2021-10-27   •   14 days 0 hours 34 mi...  \n",
       "2                                                NaN  "
      ]
     },
     "execution_count": 6,
     "metadata": {},
     "output_type": "execute_result"
    }
   ],
   "source": [
    "b_df.head(3)"
   ]
  },
  {
   "cell_type": "code",
   "execution_count": 7,
   "id": "ef7f9df9-255b-4e63-9831-606129c2a6d7",
   "metadata": {},
   "outputs": [
    {
     "data": {
      "text/html": [
       "<div>\n",
       "<style scoped>\n",
       "    .dataframe tbody tr th:only-of-type {\n",
       "        vertical-align: middle;\n",
       "    }\n",
       "\n",
       "    .dataframe tbody tr th {\n",
       "        vertical-align: top;\n",
       "    }\n",
       "\n",
       "    .dataframe thead th {\n",
       "        text-align: right;\n",
       "    }\n",
       "</style>\n",
       "<table border=\"1\" class=\"dataframe\">\n",
       "  <thead>\n",
       "    <tr style=\"text-align: right;\">\n",
       "      <th></th>\n",
       "      <th>Element ID</th>\n",
       "      <th>Tag name</th>\n",
       "      <th>Name</th>\n",
       "      <th>No. clicks</th>\n",
       "      <th>Visible?</th>\n",
       "      <th>Snapshot information</th>\n",
       "    </tr>\n",
       "  </thead>\n",
       "  <tbody>\n",
       "    <tr>\n",
       "      <th>0</th>\n",
       "      <td>48</td>\n",
       "      <td>h1</td>\n",
       "      <td>ENIAC</td>\n",
       "      <td>288</td>\n",
       "      <td>True</td>\n",
       "      <td>Homepage Version C - white SEE DEALS   •   htt...</td>\n",
       "    </tr>\n",
       "    <tr>\n",
       "      <th>1</th>\n",
       "      <td>25</td>\n",
       "      <td>div</td>\n",
       "      <td>mySidebar</td>\n",
       "      <td>283</td>\n",
       "      <td>True</td>\n",
       "      <td>created 2021-10-27   •   14 days 0 hours 34 mi...</td>\n",
       "    </tr>\n",
       "    <tr>\n",
       "      <th>2</th>\n",
       "      <td>4</td>\n",
       "      <td>a</td>\n",
       "      <td>Mac</td>\n",
       "      <td>262</td>\n",
       "      <td>True</td>\n",
       "      <td>NaN</td>\n",
       "    </tr>\n",
       "  </tbody>\n",
       "</table>\n",
       "</div>"
      ],
      "text/plain": [
       "   Element ID Tag name       Name  No. clicks  Visible?  \\\n",
       "0          48       h1      ENIAC         288      True   \n",
       "1          25      div  mySidebar         283      True   \n",
       "2           4        a        Mac         262      True   \n",
       "\n",
       "                                Snapshot information  \n",
       "0  Homepage Version C - white SEE DEALS   •   htt...  \n",
       "1  created 2021-10-27   •   14 days 0 hours 34 mi...  \n",
       "2                                                NaN  "
      ]
     },
     "execution_count": 7,
     "metadata": {},
     "output_type": "execute_result"
    }
   ],
   "source": [
    "c_df.head(3)"
   ]
  },
  {
   "cell_type": "code",
   "execution_count": 8,
   "id": "e967ad50-9b0b-4f49-825a-ff13282a21b3",
   "metadata": {},
   "outputs": [
    {
     "data": {
      "text/html": [
       "<div>\n",
       "<style scoped>\n",
       "    .dataframe tbody tr th:only-of-type {\n",
       "        vertical-align: middle;\n",
       "    }\n",
       "\n",
       "    .dataframe tbody tr th {\n",
       "        vertical-align: top;\n",
       "    }\n",
       "\n",
       "    .dataframe thead th {\n",
       "        text-align: right;\n",
       "    }\n",
       "</style>\n",
       "<table border=\"1\" class=\"dataframe\">\n",
       "  <thead>\n",
       "    <tr style=\"text-align: right;\">\n",
       "      <th></th>\n",
       "      <th>Element ID</th>\n",
       "      <th>Tag name</th>\n",
       "      <th>Name</th>\n",
       "      <th>No. clicks</th>\n",
       "      <th>Visible?</th>\n",
       "      <th>Snapshot information</th>\n",
       "    </tr>\n",
       "  </thead>\n",
       "  <tbody>\n",
       "    <tr>\n",
       "      <th>0</th>\n",
       "      <td>48</td>\n",
       "      <td>h1</td>\n",
       "      <td>ENIAC</td>\n",
       "      <td>285</td>\n",
       "      <td>True</td>\n",
       "      <td>Homepage Version D - red SEE DEALS   •   https...</td>\n",
       "    </tr>\n",
       "    <tr>\n",
       "      <th>1</th>\n",
       "      <td>25</td>\n",
       "      <td>div</td>\n",
       "      <td>mySidebar</td>\n",
       "      <td>305</td>\n",
       "      <td>True</td>\n",
       "      <td>created 2021-10-27   •   14 days 0 hours 34 mi...</td>\n",
       "    </tr>\n",
       "    <tr>\n",
       "      <th>2</th>\n",
       "      <td>4</td>\n",
       "      <td>a</td>\n",
       "      <td>Mac</td>\n",
       "      <td>274</td>\n",
       "      <td>True</td>\n",
       "      <td>NaN</td>\n",
       "    </tr>\n",
       "  </tbody>\n",
       "</table>\n",
       "</div>"
      ],
      "text/plain": [
       "   Element ID Tag name       Name  No. clicks  Visible?  \\\n",
       "0          48       h1      ENIAC         285      True   \n",
       "1          25      div  mySidebar         305      True   \n",
       "2           4        a        Mac         274      True   \n",
       "\n",
       "                                Snapshot information  \n",
       "0  Homepage Version D - red SEE DEALS   •   https...  \n",
       "1  created 2021-10-27   •   14 days 0 hours 34 mi...  \n",
       "2                                                NaN  "
      ]
     },
     "execution_count": 8,
     "metadata": {},
     "output_type": "execute_result"
    }
   ],
   "source": [
    "d_df.head(3)"
   ]
  },
  {
   "cell_type": "markdown",
   "id": "a547afff-2f6d-4de8-95e6-fe26f4271abe",
   "metadata": {},
   "source": [
    "The important pieces of information (clicks on each element of interest & visits on each page) are scattered around. Let's collect them.\n",
    "Importing the csv's"
   ]
  },
  {
   "cell_type": "code",
   "execution_count": 9,
   "id": "99c1e9b7-171c-4b10-9903-d183d80d0baa",
   "metadata": {},
   "outputs": [],
   "source": [
    "eniac_a_clicks = a_df.loc[a_df[\"Name\"]==\"SHOP NOW\", \"No. clicks\"].iloc[0]\n",
    "eniac_b_clicks = b_df.loc[b_df[\"Name\"]==\"SHOP NOW\", \"No. clicks\"].iloc[0]\n",
    "eniac_c_clicks = c_df.loc[c_df[\"Name\"]==\"SEE DEALS\", \"No. clicks\"].iloc[0]\n",
    "eniac_d_clicks = d_df.loc[d_df[\"Name\"]==\"SEE DEALS\", \"No. clicks\"].iloc[0]"
   ]
  },
  {
   "cell_type": "code",
   "execution_count": 10,
   "id": "e2356fa4-0350-40b3-b993-e9b52311053a",
   "metadata": {},
   "outputs": [
    {
     "data": {
      "text/plain": [
       "'created 2021-09-14   •   14 days 0 hours 34 mins   •   25326 visits, 23174 clicks'"
      ]
     },
     "execution_count": 10,
     "metadata": {},
     "output_type": "execute_result"
    }
   ],
   "source": [
    "a_df.iloc[1, -1]"
   ]
  },
  {
   "cell_type": "code",
   "execution_count": 11,
   "id": "d122df6c-4c62-439a-ac4d-f377028e83e4",
   "metadata": {},
   "outputs": [
    {
     "data": {
      "text/plain": [
       "'created 2021-10-27   •   14 days 0 hours 34 mins   •   24747 visits, 22592 clicks'"
      ]
     },
     "execution_count": 11,
     "metadata": {},
     "output_type": "execute_result"
    }
   ],
   "source": [
    "b_df.iloc[1, -1]"
   ]
  },
  {
   "cell_type": "code",
   "execution_count": 12,
   "id": "8776be94-1777-4fdf-a8a7-b4744a30cdeb",
   "metadata": {},
   "outputs": [
    {
     "data": {
      "text/plain": [
       "'created 2021-10-27   •   14 days 0 hours 34 mins   •   24876 visits, 23031 clicks'"
      ]
     },
     "execution_count": 12,
     "metadata": {},
     "output_type": "execute_result"
    }
   ],
   "source": [
    "c_df.iloc[1, -1]"
   ]
  },
  {
   "cell_type": "code",
   "execution_count": 13,
   "id": "cf404a94-0d7a-4986-a5ba-ffae06557164",
   "metadata": {},
   "outputs": [
    {
     "data": {
      "text/plain": [
       "'created 2021-10-27   •   14 days 0 hours 34 mins   •   25233 visits, 23062 clicks'"
      ]
     },
     "execution_count": 13,
     "metadata": {},
     "output_type": "execute_result"
    }
   ],
   "source": [
    "d_df.iloc[1, -1]"
   ]
  },
  {
   "cell_type": "markdown",
   "id": "e3a87d79-f19d-47f0-8c9a-aa2cfc5a7700",
   "metadata": {},
   "source": [
    "How many visits did each page get (they are in the last column of the second row, we read them manually)?"
   ]
  },
  {
   "cell_type": "code",
   "execution_count": 14,
   "id": "f9018f3f-c9c2-4d0c-85bb-fe1e3b5b9f9e",
   "metadata": {},
   "outputs": [],
   "source": [
    "eniac_a_visits = 25326\n",
    "eniac_b_visits = 24747\n",
    "eniac_c_visits = 24876\n",
    "eniac_d_visits = 25233"
   ]
  },
  {
   "cell_type": "markdown",
   "id": "1ad922e6-ac0c-43c5-9709-f5594e0769dd",
   "metadata": {},
   "source": [
    "From the above information, we can calculate the number of visitors who didn't click on the button"
   ]
  },
  {
   "cell_type": "code",
   "execution_count": 15,
   "id": "4dd056e7-75fa-4b71-aacd-5a7801e5e984",
   "metadata": {},
   "outputs": [],
   "source": [
    "eniac_a_no_click = eniac_a_visits - eniac_a_clicks\n",
    "eniac_b_no_click = eniac_b_visits - eniac_b_clicks\n",
    "eniac_c_no_click = eniac_c_visits - eniac_c_clicks\n",
    "eniac_d_no_click = eniac_d_visits - eniac_d_clicks"
   ]
  },
  {
   "cell_type": "markdown",
   "id": "b0f24f42-4f8a-4783-9f7b-4beb4277b816",
   "metadata": {},
   "source": [
    "Now we can make a contingency table that shows the clicks and no clicks for each version of the website"
   ]
  },
  {
   "cell_type": "code",
   "execution_count": 16,
   "id": "e32ff63a-5eff-43ca-9409-9ef61854d783",
   "metadata": {},
   "outputs": [
    {
     "data": {
      "text/html": [
       "<div>\n",
       "<style scoped>\n",
       "    .dataframe tbody tr th:only-of-type {\n",
       "        vertical-align: middle;\n",
       "    }\n",
       "\n",
       "    .dataframe tbody tr th {\n",
       "        vertical-align: top;\n",
       "    }\n",
       "\n",
       "    .dataframe thead th {\n",
       "        text-align: right;\n",
       "    }\n",
       "</style>\n",
       "<table border=\"1\" class=\"dataframe\">\n",
       "  <thead>\n",
       "    <tr style=\"text-align: right;\">\n",
       "      <th></th>\n",
       "      <th>Version_A</th>\n",
       "      <th>Version_B</th>\n",
       "      <th>Version_C</th>\n",
       "      <th>Version_D</th>\n",
       "    </tr>\n",
       "  </thead>\n",
       "  <tbody>\n",
       "    <tr>\n",
       "      <th>Click</th>\n",
       "      <td>512</td>\n",
       "      <td>281</td>\n",
       "      <td>527</td>\n",
       "      <td>193</td>\n",
       "    </tr>\n",
       "    <tr>\n",
       "      <th>No-click</th>\n",
       "      <td>24814</td>\n",
       "      <td>24466</td>\n",
       "      <td>24349</td>\n",
       "      <td>25040</td>\n",
       "    </tr>\n",
       "  </tbody>\n",
       "</table>\n",
       "</div>"
      ],
      "text/plain": [
       "          Version_A  Version_B  Version_C  Version_D\n",
       "Click           512        281        527        193\n",
       "No-click      24814      24466      24349      25040"
      ]
     },
     "execution_count": 16,
     "metadata": {},
     "output_type": "execute_result"
    }
   ],
   "source": [
    "clicks = [eniac_a_clicks, eniac_b_clicks, eniac_c_clicks, eniac_d_clicks]\n",
    "noclicks = [eniac_a_no_click, eniac_b_no_click, eniac_c_no_click, eniac_d_no_click]\n",
    "\n",
    "observed_results = pd.DataFrame(data = [clicks, noclicks],\n",
    "                                columns = [\"Version_A\", \"Version_B\", \"Version_C\", \"Version_D\"],\n",
    "                                index = [\"Click\", \"No-click\"])\n",
    "\n",
    "observed_results"
   ]
  },
  {
   "cell_type": "code",
   "execution_count": 17,
   "id": "9e593d3a-b37e-4644-b997-f336ec6ecaf5",
   "metadata": {},
   "outputs": [],
   "source": [
    "chisq, pvalue, df, expected = chi2_contingency(observed_results)"
   ]
  },
  {
   "cell_type": "code",
   "execution_count": 18,
   "id": "3b559e21-ffcd-4d4d-8acf-843b2d16e752",
   "metadata": {},
   "outputs": [
    {
     "data": {
      "text/plain": [
       "224.01877488058412"
      ]
     },
     "execution_count": 18,
     "metadata": {},
     "output_type": "execute_result"
    }
   ],
   "source": [
    "chisq"
   ]
  },
  {
   "cell_type": "code",
   "execution_count": 19,
   "id": "65f5fb46-dae1-45a2-bd76-70b62a031d1a",
   "metadata": {},
   "outputs": [
    {
     "data": {
      "text/plain": [
       "2.716121660786871e-48"
      ]
     },
     "execution_count": 19,
     "metadata": {},
     "output_type": "execute_result"
    }
   ],
   "source": [
    "pvalue"
   ]
  },
  {
   "cell_type": "code",
   "execution_count": 20,
   "id": "2ce6e112-bded-4b9b-80aa-a05670ed996f",
   "metadata": {},
   "outputs": [
    {
     "data": {
      "text/plain": [
       "3"
      ]
     },
     "execution_count": 20,
     "metadata": {},
     "output_type": "execute_result"
    }
   ],
   "source": [
    "df"
   ]
  },
  {
   "cell_type": "code",
   "execution_count": 21,
   "id": "04537c91-1b84-4fb4-afc7-f97f3f2956d8",
   "metadata": {},
   "outputs": [
    {
     "data": {
      "text/plain": [
       "array([[  382.48625502,   373.74189974,   375.69012397,   381.08172127],\n",
       "       [24943.51374498, 24373.25810026, 24500.30987603, 24851.91827873]])"
      ]
     },
     "execution_count": 21,
     "metadata": {},
     "output_type": "execute_result"
    }
   ],
   "source": [
    "expected "
   ]
  },
  {
   "cell_type": "code",
   "execution_count": 23,
   "id": "724d3644-d0a0-460c-88aa-ddd13152eed6",
   "metadata": {},
   "outputs": [
    {
     "name": "stdout",
     "output_type": "stream",
     "text": [
      "The p-value is smaller than alpha.\n"
     ]
    }
   ],
   "source": [
    "if pvalue > alpha:\n",
    "  print(\"The p-value is larger than alpha.\")\n",
    "else:\n",
    "  print(\"The p-value is smaller than alpha.\")"
   ]
  },
  {
   "cell_type": "code",
   "execution_count": 24,
   "id": "b212bf77-4f62-4948-b665-b09caf9ea66b",
   "metadata": {},
   "outputs": [
    {
     "name": "stdout",
     "output_type": "stream",
     "text": [
      "Reject the null hypothesis\n"
     ]
    }
   ],
   "source": [
    "if pvalue > alpha:\n",
    "  print(\"Do not reject the null hypothesis\")\n",
    "else:\n",
    "  print(\"Reject the null hypothesis\")"
   ]
  },
  {
   "cell_type": "markdown",
   "id": "36a3126e-96ff-4d53-9b77-9cf97b2fb6c3",
   "metadata": {},
   "source": [
    "Since the p-value is (much) smaller than alpha, we reject the Null Hypothesis.\n",
    "\n",
    "> Remember: **If p is low, the Null must go!**\n",
    "\n",
    "This means that at least one of the four different versions performed significantly better or worse than the others."
   ]
  },
  {
   "cell_type": "code",
   "execution_count": 25,
   "id": "146b687c-f8c2-4019-b91e-353fc6af9d5c",
   "metadata": {},
   "outputs": [
    {
     "data": {
      "text/html": [
       "<div>\n",
       "<style scoped>\n",
       "    .dataframe tbody tr th:only-of-type {\n",
       "        vertical-align: middle;\n",
       "    }\n",
       "\n",
       "    .dataframe tbody tr th {\n",
       "        vertical-align: top;\n",
       "    }\n",
       "\n",
       "    .dataframe thead th {\n",
       "        text-align: right;\n",
       "    }\n",
       "</style>\n",
       "<table border=\"1\" class=\"dataframe\">\n",
       "  <thead>\n",
       "    <tr style=\"text-align: right;\">\n",
       "      <th></th>\n",
       "      <th>version</th>\n",
       "      <th>CTR</th>\n",
       "    </tr>\n",
       "  </thead>\n",
       "  <tbody>\n",
       "    <tr>\n",
       "      <th>2</th>\n",
       "      <td>C</td>\n",
       "      <td>0.021185</td>\n",
       "    </tr>\n",
       "    <tr>\n",
       "      <th>0</th>\n",
       "      <td>A</td>\n",
       "      <td>0.020216</td>\n",
       "    </tr>\n",
       "    <tr>\n",
       "      <th>1</th>\n",
       "      <td>B</td>\n",
       "      <td>0.011355</td>\n",
       "    </tr>\n",
       "    <tr>\n",
       "      <th>3</th>\n",
       "      <td>D</td>\n",
       "      <td>0.007649</td>\n",
       "    </tr>\n",
       "  </tbody>\n",
       "</table>\n",
       "</div>"
      ],
      "text/plain": [
       "  version       CTR\n",
       "2       C  0.021185\n",
       "0       A  0.020216\n",
       "1       B  0.011355\n",
       "3       D  0.007649"
      ]
     },
     "execution_count": 25,
     "metadata": {},
     "output_type": "execute_result"
    }
   ],
   "source": [
    "# calculate the click through rate for each version\n",
    "ctr_a = observed_results.loc[\"Click\", \"Version_A\"] / sum(observed_results[\"Version_A\"])\n",
    "ctr_b = observed_results.loc[\"Click\", \"Version_B\"] / sum(observed_results[\"Version_B\"])\n",
    "ctr_c = observed_results.loc[\"Click\", \"Version_C\"] / sum(observed_results[\"Version_C\"])\n",
    "ctr_d = observed_results.loc[\"Click\", \"Version_D\"] / sum(observed_results[\"Version_D\"])\n",
    "\n",
    "# create a table with all four versions and their click-through rates.\n",
    "ctrs = pd.DataFrame({\"version\": [\"A\", \"B\", \"C\", \"D\"],\n",
    "                     \"CTR\": [ctr_a, ctr_b, ctr_c, ctr_d]})\n",
    "\n",
    "ctrs.sort_values(\"CTR\", ascending=False)"
   ]
  },
  {
   "cell_type": "code",
   "execution_count": 28,
   "id": "84697715-65ba-4a00-84a5-4a4d6fba2b1b",
   "metadata": {},
   "outputs": [
    {
     "data": {
      "image/png": "[encoded data removed]",
      "text/plain": [
       "<Figure size 600x400 with 1 Axes>"
      ]
     },
     "metadata": {},
     "output_type": "display_data"
    }
   ],
   "source": [
    "import matplotlib.pyplot as plt\n",
    "import seaborn as sns\n",
    "\n",
    "# Data: CTRs for each version\n",
    "ctrs = pd.DataFrame({\n",
    "    \"Version\": [\"A\", \"B\", \"C\", \"D\"],\n",
    "    \"CTR\": [0.020216, 0.011355, 0.021185, 0.007649]\n",
    "})\n",
    "\n",
    "# Sorting the CTRs in ascending order\n",
    "ctrs = ctrs.sort_values(\"CTR\", ascending = False)\n",
    "\n",
    "# Plotting the CTRs\n",
    "plt.figure(figsize=(6, 4))\n",
    "sns.barplot(x=\"Version\", y=\"CTR\", data=ctrs, palette=\"viridis\")\n",
    "\n",
    "# Adding title and labels\n",
    "plt.title(\"Click-Through Rates (CTR) Comparison Across Versions\", fontsize=10)\n",
    "plt.xlabel(\"Version\", fontsize=10)\n",
    "plt.ylabel(\"Click-Through Rate (CTR)\", fontsize=10)\n",
    "\n",
    "# Display the plot\n",
    "plt.ylim(0.006, 0.023)  # Adjust the y-axis limits to focus on differences\n",
    "plt.show()\n"
   ]
  },
  {
   "cell_type": "markdown",
   "id": "4fecdea8-6496-4a2e-abd8-41e1f2db65ad",
   "metadata": {},
   "source": [
    "#### But how do we decide who's the winner?"
   ]
  },
  {
   "cell_type": "markdown",
   "id": "c1c8e3bf-8d53-4452-a532-859503f62c69",
   "metadata": {},
   "source": [
    "If you feel very brave, read about [Post Hoc Tests](https://alanarnholt.github.io/PDS-Bookdown2/post-hoc-tests-1.html) and find out whether we can declare a clear winner.\n",
    "\n",
    "> **In brief:** Post hoc tests, also known as post hoc comparisons or pairwise comparisons, are statistical procedures used in conjunction with a Chi-Squared test to determine specific differences between groups or conditions after obtaining significant results from the Chi-Squared test. Once the Chi-Squared test reveals a significant difference among the variables being examined, post hoc tests are employed to identify which specific groups or categories are significantly different from each other.\n",
    "\n",
    "We have 6 possible dual tests to perform:\n",
    "* Version A - Version B\n",
    "* Version A - Version C\n",
    "* Version A - Version D\n",
    "* Version B - Version C\n",
    "* Version B - Version D\n",
    "* Version C - Version D\n",
    "\n",
    "The level of alpha we selected for the chi-squared test cannot be same for the dual tests. If there was an error of 5% in each of the tests, this would sum up to much more than the 5% total we set for alpha, so we will need to be much more restrictive in the dual tests. Therefore, we will split the value of alpha equally among the dual tests to be performed."
   ]
  },
  {
   "cell_type": "code",
   "execution_count": 29,
   "id": "442cc6fb-7882-44b2-a59a-9ea51455694e",
   "metadata": {},
   "outputs": [
    {
     "data": {
      "text/plain": [
       "0.008333333333333333"
      ]
     },
     "execution_count": 29,
     "metadata": {},
     "output_type": "execute_result"
    }
   ],
   "source": [
    "possible_combinations = 6\n",
    "alpha_post_hoc = alpha / possible_combinations\n",
    "alpha_post_hoc"
   ]
  },
  {
   "cell_type": "code",
   "execution_count": 30,
   "id": "b1509330-d950-4f93-9efc-884ab50e73b0",
   "metadata": {},
   "outputs": [
    {
     "data": {
      "text/html": [
       "<div>\n",
       "<style scoped>\n",
       "    .dataframe tbody tr th:only-of-type {\n",
       "        vertical-align: middle;\n",
       "    }\n",
       "\n",
       "    .dataframe tbody tr th {\n",
       "        vertical-align: top;\n",
       "    }\n",
       "\n",
       "    .dataframe thead th {\n",
       "        text-align: right;\n",
       "    }\n",
       "</style>\n",
       "<table border=\"1\" class=\"dataframe\">\n",
       "  <thead>\n",
       "    <tr style=\"text-align: right;\">\n",
       "      <th></th>\n",
       "      <th>rates</th>\n",
       "      <th>names</th>\n",
       "    </tr>\n",
       "  </thead>\n",
       "  <tbody>\n",
       "    <tr>\n",
       "      <th>2</th>\n",
       "      <td>0.021185</td>\n",
       "      <td>Version_C</td>\n",
       "    </tr>\n",
       "    <tr>\n",
       "      <th>0</th>\n",
       "      <td>0.020216</td>\n",
       "      <td>Version_A</td>\n",
       "    </tr>\n",
       "    <tr>\n",
       "      <th>1</th>\n",
       "      <td>0.011355</td>\n",
       "      <td>Version_B</td>\n",
       "    </tr>\n",
       "    <tr>\n",
       "      <th>3</th>\n",
       "      <td>0.007649</td>\n",
       "      <td>Version_D</td>\n",
       "    </tr>\n",
       "  </tbody>\n",
       "</table>\n",
       "</div>"
      ],
      "text/plain": [
       "      rates      names\n",
       "2  0.021185  Version_C\n",
       "0  0.020216  Version_A\n",
       "1  0.011355  Version_B\n",
       "3  0.007649  Version_D"
      ]
     },
     "execution_count": 30,
     "metadata": {},
     "output_type": "execute_result"
    }
   ],
   "source": [
    "# click-through rates\n",
    "eniac_a_ctr = eniac_a_clicks / eniac_a_visits\n",
    "eniac_b_ctr = eniac_b_clicks / eniac_b_visits\n",
    "eniac_c_ctr = eniac_c_clicks / eniac_c_visits\n",
    "eniac_d_ctr = eniac_d_clicks / eniac_d_visits\n",
    "\n",
    "# display as DataFrame\n",
    "rates = [eniac_a_ctr, eniac_b_ctr, eniac_c_ctr, eniac_d_ctr]\n",
    "names = [\"Version_A\", \"Version_B\", \"Version_C\", \"Version_D\"]\n",
    "\n",
    "ctr_df = pd.DataFrame({\"rates\": rates, \"names\": names})\n",
    "ctr_df.sort_values(\"rates\", ascending=False)"
   ]
  },
  {
   "cell_type": "markdown",
   "id": "9e3c3513-f614-41af-9150-e0f7ab9d0b78",
   "metadata": {},
   "source": [
    "It appears that the two white buttons have achieved the highest level of success. However, to gain a comprehensive understanding of statistical significance, we will conduct a post hoc test across all versions. Nonetheless, our primary emphasis should be on analysing the discrepancy between the white \"SEE DEALS\" and the white \"SHOP NOW\" buttons, as well as the disparity between these two and the remaining versions."
   ]
  },
  {
   "cell_type": "code",
   "execution_count": 31,
   "id": "1463d5a3-080c-4445-9ce6-946c983de850",
   "metadata": {},
   "outputs": [
    {
     "data": {
      "image/png": "[encoded data removed]",
      "text/plain": [
       "<Figure size 640x480 with 2 Axes>"
      ]
     },
     "metadata": {},
     "output_type": "display_data"
    }
   ],
   "source": [
    "# empty dictionary to fill with our results\n",
    "stat_significant_dict = {\n",
    "                        \"Version_A\": [],\n",
    "                        \"Version_B\": [],\n",
    "                        \"Version_C\": [],\n",
    "                        \"Version_D\": []\n",
    "                         }\n",
    "\n",
    "# compare each version to each other version\n",
    "for i in observed_results.columns:\n",
    "  for j in observed_results.columns:\n",
    "    # use scipy to find the p-value of each pair\n",
    "    chisq, pvalue, df, expected = stats.chi2_contingency(observed_results.loc[:, [i, j]], correction=False)\n",
    "    # boolean: if the p-value is lower than alpha, our result is statistically significant\n",
    "    stat_significant_dict[i].append(pvalue < alpha_post_hoc)\n",
    "\n",
    "# create a DataFrame of results\n",
    "stat_significant_df = pd.DataFrame(stat_significant_dict,\n",
    "                                   index=observed_results.columns)\n",
    "\n",
    "# create a heatmap from the DataFrame & red/green colour palette\n",
    "red_green_palette = sns.diverging_palette(10, 120, n=2, s=70, l=50)\n",
    "ax = sns.heatmap(stat_significant_df, cmap=red_green_palette)\n",
    "\n",
    "# Manually specify colorbar labelling after it's been generated\n",
    "colorbar = ax.collections[0].colorbar\n",
    "colorbar.set_ticks([0.25, 0.75])\n",
    "colorbar.set_ticklabels(['False', 'True'])\n",
    "\n",
    "# Add a title to the heatmap\n",
    "ax.set_title(\"Statistical Significance in Pairwise Tests: True or False?\", pad=10);"
   ]
  },
  {
   "cell_type": "markdown",
   "id": "36157fa0-e317-4eaa-b5c6-86c5cb4394d0",
   "metadata": {},
   "source": [
    "Analysing our heatmap, it is evident that the version with the highest click-through rate, `Version_C`, exhibits a statistically significant difference when compared Versions B and D, but not to `Version_A`, which possesses the second-highest click-through rate. As a result, declaring a clear winner based on post hoc tests becomes challenging, therefore we can only say that both `Version_C` and `Version_A` are the winners.\n",
    "\n",
    "However, if a definitive winner is required, additional steps need to be implemented. This is where we transition from the realm of statistics to the business world. The following actions can help in determining the version to be featured on the website in the future:\n",
    " - Consider other metrics alongside click-through rate.\n",
    " - Incorporate qualitative research findings.\n",
    " - Seek input from subject-matter experts.\n",
    " - Redesign the experiment and conduct it once more."
   ]
  },
  {
   "cell_type": "code",
   "execution_count": 32,
   "id": "f37e8c00-355b-4ded-91a1-fde7979dd60e",
   "metadata": {},
   "outputs": [],
   "source": [
    "from itertools import combinations"
   ]
  },
  {
   "cell_type": "code",
   "execution_count": 33,
   "id": "738408f7-0e8a-498d-9d42-efc675554bd9",
   "metadata": {},
   "outputs": [
    {
     "name": "stdout",
     "output_type": "stream",
     "text": [
      "\n",
      "Adjusted alpha level for multiple comparisons: 0.008333333333333333\n"
     ]
    }
   ],
   "source": [
    "# Adjust alpha level using Bonferroni correction\n",
    "num_comparisons = len(list(combinations([\"A\", \"B\", \"C\", \"D\"], 2)))\n",
    "adjusted_alpha = alpha / num_comparisons\n",
    "print(f\"\\nAdjusted alpha level for multiple comparisons: {adjusted_alpha}\")"
   ]
  },
  {
   "cell_type": "code",
   "execution_count": 34,
   "id": "7832c440-6481-4dc2-ba45-99250f0a3eee",
   "metadata": {},
   "outputs": [
    {
     "name": "stdout",
     "output_type": "stream",
     "text": [
      "\n",
      "Pair: ('Version_A', 'Version_B')\n",
      "Chi-Square Statistic: 62.49362285550828\n",
      "P-value: 2.6730880539675666e-15\n",
      "Reject Null Hypothesis: True\n",
      "\n",
      "Pair: ('Version_A', 'Version_C')\n",
      "Chi-Square Statistic: 0.5342102943321849\n",
      "P-value: 0.464842123017306\n",
      "Reject Null Hypothesis: False\n",
      "\n",
      "Pair: ('Version_A', 'Version_D')\n",
      "Chi-Square Statistic: 144.28318375013012\n",
      "P-value: 3.0808983951735623e-33\n",
      "Reject Null Hypothesis: True\n",
      "\n",
      "Pair: ('Version_B', 'Version_C')\n",
      "Chi-Square Statistic: 74.2291724194565\n",
      "P-value: 6.955480170773988e-18\n",
      "Reject Null Hypothesis: True\n",
      "\n",
      "Pair: ('Version_B', 'Version_D')\n",
      "Chi-Square Statistic: 17.876339585535256\n",
      "P-value: 2.3573374085176145e-05\n",
      "Reject Null Hypothesis: True\n",
      "\n",
      "Pair: ('Version_C', 'Version_D')\n",
      "Chi-Square Statistic: 161.1170410120536\n",
      "P-value: 6.450501398841207e-37\n",
      "Reject Null Hypothesis: True\n"
     ]
    }
   ],
   "source": [
    "# Perform pairwise chi-square tests\n",
    "pairs = list(combinations([\"Version_A\", \"Version_B\", \"Version_C\", \"Version_D\"], 2))\n",
    "for pair in pairs:\n",
    "    subset = observed_results.loc[:, pair]\n",
    "    chisq, pvalue, df, expected = chi2_contingency(subset)\n",
    "    print(f\"\\nPair: {pair}\")\n",
    "    print(f\"Chi-Square Statistic: {chisq}\")\n",
    "    print(f\"P-value: {pvalue}\")\n",
    "    print(f\"Reject Null Hypothesis: {pvalue < adjusted_alpha}\")"
   ]
  },
  {
   "cell_type": "markdown",
   "id": "97bdb2e0-f346-40c9-8d26-fe8464ff083a",
   "metadata": {},
   "source": [
    "Interpretation:\n",
    "Significant Differences:\n",
    "\n",
    "- A vs. C: There is a significant difference between versions A and C.\n",
    "- B vs. C: There is a significant difference between versions B and C.\n",
    "- C vs. D: There is a significant difference between versions C and D.\n",
    "- No Significant Differences:\n",
    "\n",
    "- A vs. B: No significant difference.\n",
    "- A vs. D: No significant difference.\n",
    "- B vs. D: No significant difference.\n",
    "#### - Conclusion:\n",
    "Version C stands out as the best-performing variant, with statistically significant differences compared to all other versions (A, B, and D).\n",
    "No significant differences were found between A and B, A and D, or B and D."
   ]
  }
 ],
 "metadata": {
  "kernelspec": {
   "display_name": "Python 3 (ipykernel)",
   "language": "python",
   "name": "python3"
  },
  "language_info": {
   "codemirror_mode": {
    "name": "ipython",
    "version": 3
   },
   "file_extension": ".py",
   "mimetype": "text/x-python",
   "name": "python",
   "nbconvert_exporter": "python",
   "pygments_lexer": "ipython3",
   "version": "3.12.8"
  }
 },
 "nbformat": 4,
 "nbformat_minor": 5
}
